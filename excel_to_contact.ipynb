{
 "cells": [
  {
   "cell_type": "code",
   "execution_count": 48,
   "metadata": {},
   "outputs": [],
   "source": [
    "import csv,openpyxl"
   ]
  },
  {
   "cell_type": "code",
   "execution_count": 49,
   "metadata": {},
   "outputs": [
    {
     "data": {
      "text/plain": [
       "357"
      ]
     },
     "execution_count": 49,
     "metadata": {},
     "output_type": "execute_result"
    }
   ],
   "source": [
    "kisiler = open('kisiler.csv', 'w')\n",
    "yazici = csv.writer(kisiler, )\n",
    "yazici.writerow(['Name','Given Name','Additional Name','Family Name','Yomi Name','Given Name Yomi','Additional Name Yomi','Family Name Yomi','Name Prefix','Name Suffix','Initials','Nickname','Short Name','Maiden Name','Birthday','Gender','Location','Billing' 'Information','Directory' 'Server','Mileage','Occupation','Hobby','Sensitivity','Priority','Subject','Notes','Language','Photo','Group Membership','Phone 1 - Type','Phone 1 - Value'])"
   ]
  },
  {
   "cell_type": "code",
   "execution_count": 50,
   "metadata": {},
   "outputs": [
    {
     "name": "stderr",
     "output_type": "stream",
     "text": [
      "/var/folders/d8/fl_b2xv14m9019knj5f85x880000gn/T/ipykernel_2240/1562812472.py:2: DeprecationWarning: Call to deprecated function get_sheet_by_name (Use wb[sheetname]).\n",
      "  sheet = excel.get_sheet_by_name('numaralar')\n"
     ]
    }
   ],
   "source": [
    "excel = openpyxl.load_workbook('kisiler.xlsx')\n",
    "sheet = excel.get_sheet_by_name('numaralar')"
   ]
  },
  {
   "cell_type": "code",
   "execution_count": 51,
   "metadata": {},
   "outputs": [],
   "source": [
    "for row in sheet.iter_rows():\n",
    "    phone = str(row[0].value).split('.')[0]\n",
    "    phone = phone.strip().replace(' ','')\n",
    "    if phone.startswith('+90'):\n",
    "        phone = phone.removeprefix('+90')\n",
    "    if not phone.startswith('0'):\n",
    "        phone = '0'+phone\n",
    "    if len(phone) == 11:\n",
    "        yazici.writerow([f'ERUSONG{phone}',f'ERUSONG{phone}',f'ERUSONG{phone}',f'ERUSONG{phone}','','','','','','','','','','','','','','','','','','','','','','','','','* myContacts','Mobile',phone])"
   ]
  }
 ],
 "metadata": {
  "kernelspec": {
   "display_name": "base",
   "language": "python",
   "name": "python3"
  },
  "language_info": {
   "codemirror_mode": {
    "name": "ipython",
    "version": 3
   },
   "file_extension": ".py",
   "mimetype": "text/x-python",
   "name": "python",
   "nbconvert_exporter": "python",
   "pygments_lexer": "ipython3",
   "version": "3.10.9"
  }
 },
 "nbformat": 4,
 "nbformat_minor": 2
}
